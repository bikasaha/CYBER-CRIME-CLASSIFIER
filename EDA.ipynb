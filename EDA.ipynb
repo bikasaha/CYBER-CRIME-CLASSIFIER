{
  "nbformat": 4,
  "nbformat_minor": 0,
  "metadata": {
    "colab": {
      "provenance": []
    },
    "kernelspec": {
      "name": "python3",
      "display_name": "Python 3"
    },
    "language_info": {
      "name": "python"
    }
  },
  "cells": [
    {
      "cell_type": "code",
      "source": [
        "from google.colab import drive\n",
        "drive.mount('/content/drive')"
      ],
      "metadata": {
        "colab": {
          "base_uri": "https://localhost:8080/"
        },
        "id": "ItdDoQgcMLkj",
        "outputId": "309e91ce-6e32-4c79-865e-14ed9edd6e84"
      },
      "execution_count": 1,
      "outputs": [
        {
          "output_type": "stream",
          "name": "stdout",
          "text": [
            "Mounted at /content/drive\n"
          ]
        }
      ]
    },
    {
      "cell_type": "code",
      "execution_count": 2,
      "metadata": {
        "colab": {
          "base_uri": "https://localhost:8080/"
        },
        "id": "a1k_NlYPL__y",
        "outputId": "eaf3edd5-b73f-4f79-9ec8-d233a2ced57a"
      },
      "outputs": [
        {
          "output_type": "stream",
          "name": "stdout",
          "text": [
            "/content/drive/MyDrive/CYBER_CRIME_I4C_2024/FINAL_IMPLEMENTATION\n"
          ]
        }
      ],
      "source": [
        "cd \"/content/drive/MyDrive/CYBER_CRIME_I4C_2024/FINAL_IMPLEMENTATION\""
      ]
    },
    {
      "cell_type": "code",
      "source": [
        "import pandas as pd"
      ],
      "metadata": {
        "id": "VEQRMownMWkx"
      },
      "execution_count": 27,
      "outputs": []
    },
    {
      "cell_type": "code",
      "source": [
        "train_df = pd.read_csv(\"TRAIN.csv\")\n",
        "test_df = pd.read_csv(\"TEST.csv\")"
      ],
      "metadata": {
        "id": "74GKLw1zMbvI"
      },
      "execution_count": 28,
      "outputs": []
    },
    {
      "cell_type": "code",
      "source": [
        "print(train_df.columns)"
      ],
      "metadata": {
        "colab": {
          "base_uri": "https://localhost:8080/"
        },
        "id": "jvamdeuyNynB",
        "outputId": "b708c4a2-b047-428b-8fb6-74864cd6650c"
      },
      "execution_count": 29,
      "outputs": [
        {
          "output_type": "stream",
          "name": "stdout",
          "text": [
            "Index(['category', 'sub_category', 'crimeaditionalinfo'], dtype='object')\n"
          ]
        }
      ]
    },
    {
      "cell_type": "code",
      "source": [
        "print(train_df.shape, test_df.shape)"
      ],
      "metadata": {
        "colab": {
          "base_uri": "https://localhost:8080/"
        },
        "id": "LABdIZvpOhaz",
        "outputId": "66eb8b43-a4b6-470a-b5fe-a31bcff3f12a"
      },
      "execution_count": 30,
      "outputs": [
        {
          "output_type": "stream",
          "name": "stdout",
          "text": [
            "(93686, 3) (31229, 3)\n"
          ]
        }
      ]
    },
    {
      "cell_type": "markdown",
      "source": [
        "## Unknown Labels"
      ],
      "metadata": {
        "id": "DvtJ2MOZNdKx"
      }
    },
    {
      "cell_type": "code",
      "source": [
        "print(\"-\"*70)\n",
        "print(train_df['category'].unique())\n",
        "print(\"-\"*70)\n",
        "print(test_df['category'].unique())\n",
        "print(\"-\"*70)"
      ],
      "metadata": {
        "colab": {
          "base_uri": "https://localhost:8080/"
        },
        "id": "K2P72fhrMgoI",
        "outputId": "26487a11-f48f-47bd-d97d-5b09719920c7"
      },
      "execution_count": 34,
      "outputs": [
        {
          "output_type": "stream",
          "name": "stdout",
          "text": [
            "----------------------------------------------------------------------\n",
            "['Online and Social Media Related Crime' 'Online Financial Fraud'\n",
            " 'Online Gambling  Betting' 'RapeGang Rape RGRSexually Abusive Content'\n",
            " 'Any Other Cyber Crime' 'Cyber Attack/ Dependent Crimes'\n",
            " 'Cryptocurrency Crime' 'Sexually Explicit Act'\n",
            " 'Sexually Obscene material'\n",
            " 'Hacking  Damage to computercomputer system etc' 'Cyber Terrorism'\n",
            " 'Child Pornography CPChild Sexual Abuse Material CSAM'\n",
            " 'Online Cyber Trafficking' 'Ransomware']\n",
            "----------------------------------------------------------------------\n",
            "['RapeGang Rape RGRSexually Abusive Content' 'Online Financial Fraud'\n",
            " 'Cyber Attack/ Dependent Crimes' 'Any Other Cyber Crime'\n",
            " 'Hacking  Damage to computercomputer system etc' 'Sexually Explicit Act'\n",
            " 'Sexually Obscene material' 'Online and Social Media Related Crime'\n",
            " 'Child Pornography CPChild Sexual Abuse Material CSAM'\n",
            " 'Cryptocurrency Crime' 'Online Gambling  Betting'\n",
            " 'Online Cyber Trafficking' 'Cyber Terrorism' 'Ransomware'\n",
            " 'Crime Against Women & Children']\n",
            "----------------------------------------------------------------------\n"
          ]
        }
      ]
    },
    {
      "cell_type": "markdown",
      "source": [
        "## Check Missing Data (NaN)"
      ],
      "metadata": {
        "id": "Yabi53ouN3jx"
      }
    },
    {
      "cell_type": "code",
      "source": [
        "train_df['crimeaditionalinfo'].isna().any()"
      ],
      "metadata": {
        "colab": {
          "base_uri": "https://localhost:8080/"
        },
        "id": "KrSynZjzNgMR",
        "outputId": "cf46527a-3858-447f-da68-f59375f5add1"
      },
      "execution_count": 35,
      "outputs": [
        {
          "output_type": "execute_result",
          "data": {
            "text/plain": [
              "True"
            ]
          },
          "metadata": {},
          "execution_count": 35
        }
      ]
    },
    {
      "cell_type": "code",
      "source": [
        "train_df['crimeaditionalinfo'].isna().sum()"
      ],
      "metadata": {
        "colab": {
          "base_uri": "https://localhost:8080/"
        },
        "id": "9ESmMk7NNxM2",
        "outputId": "8b23c5e6-e1c4-4fc5-958f-d0e3b3fce610"
      },
      "execution_count": 36,
      "outputs": [
        {
          "output_type": "execute_result",
          "data": {
            "text/plain": [
              "21"
            ]
          },
          "metadata": {},
          "execution_count": 36
        }
      ]
    },
    {
      "cell_type": "code",
      "source": [
        "train_df.dropna(subset=['crimeaditionalinfo'], inplace=True)"
      ],
      "metadata": {
        "id": "UoOeIUaPPL6U"
      },
      "execution_count": 37,
      "outputs": []
    },
    {
      "cell_type": "code",
      "source": [
        "train_df['crimeaditionalinfo'].isna().any()\n"
      ],
      "metadata": {
        "colab": {
          "base_uri": "https://localhost:8080/"
        },
        "id": "bjDbvMVWQQCs",
        "outputId": "ab3e38c2-634a-4485-a1eb-b5f1b7b51926"
      },
      "execution_count": 38,
      "outputs": [
        {
          "output_type": "execute_result",
          "data": {
            "text/plain": [
              "False"
            ]
          },
          "metadata": {},
          "execution_count": 38
        }
      ]
    },
    {
      "cell_type": "markdown",
      "source": [
        "## Check Duplicates"
      ],
      "metadata": {
        "id": "weF7DMf_OYpQ"
      }
    },
    {
      "cell_type": "code",
      "source": [
        "train_df.duplicated().any()"
      ],
      "metadata": {
        "colab": {
          "base_uri": "https://localhost:8080/"
        },
        "id": "W0kJ1z4nOChs",
        "outputId": "52608cf9-9ba5-4ab4-9beb-398baff6f3bc"
      },
      "execution_count": 39,
      "outputs": [
        {
          "output_type": "execute_result",
          "data": {
            "text/plain": [
              "True"
            ]
          },
          "metadata": {},
          "execution_count": 39
        }
      ]
    },
    {
      "cell_type": "code",
      "source": [
        "train_df.duplicated().sum()"
      ],
      "metadata": {
        "colab": {
          "base_uri": "https://localhost:8080/"
        },
        "id": "bPtEL6UfOH6R",
        "outputId": "c0624cbd-855b-4051-9429-949cd1f5cb23"
      },
      "execution_count": 40,
      "outputs": [
        {
          "output_type": "execute_result",
          "data": {
            "text/plain": [
              "7789"
            ]
          },
          "metadata": {},
          "execution_count": 40
        }
      ]
    },
    {
      "cell_type": "code",
      "source": [
        "train_df.drop_duplicates(inplace=True)"
      ],
      "metadata": {
        "id": "BE5_YGxgPKOF"
      },
      "execution_count": 41,
      "outputs": []
    },
    {
      "cell_type": "code",
      "source": [
        "train_df.duplicated().any()\n"
      ],
      "metadata": {
        "colab": {
          "base_uri": "https://localhost:8080/"
        },
        "id": "Bq-kUkpWQSUz",
        "outputId": "90c9993b-a432-4aa7-8cae-4c47dff938e2"
      },
      "execution_count": 42,
      "outputs": [
        {
          "output_type": "execute_result",
          "data": {
            "text/plain": [
              "False"
            ]
          },
          "metadata": {},
          "execution_count": 42
        }
      ]
    },
    {
      "cell_type": "markdown",
      "source": [
        "## Rare class removal"
      ],
      "metadata": {
        "id": "uF6ChwPfP9cm"
      }
    },
    {
      "cell_type": "code",
      "source": [
        "train_df['category'].value_counts()"
      ],
      "metadata": {
        "colab": {
          "base_uri": "https://localhost:8080/",
          "height": 586
        },
        "id": "YcyKQOPjPPfc",
        "outputId": "9b4c58b5-2d0e-420a-be41-c79e2b53b7af"
      },
      "execution_count": 31,
      "outputs": [
        {
          "output_type": "execute_result",
          "data": {
            "text/plain": [
              "category\n",
              "Online Financial Fraud                                  57434\n",
              "Online and Social Media Related Crime                   12140\n",
              "Any Other Cyber Crime                                   10878\n",
              "Cyber Attack/ Dependent Crimes                           3608\n",
              "RapeGang Rape RGRSexually Abusive Content                2822\n",
              "Sexually Obscene material                                1838\n",
              "Hacking  Damage to computercomputer system etc           1710\n",
              "Sexually Explicit Act                                    1552\n",
              "Cryptocurrency Crime                                      480\n",
              "Online Gambling  Betting                                  444\n",
              "Child Pornography CPChild Sexual Abuse Material CSAM      379\n",
              "Online Cyber Trafficking                                  183\n",
              "Cyber Terrorism                                           161\n",
              "Ransomware                                                 56\n",
              "Report Unlawful Content                                     1\n",
              "Name: count, dtype: int64"
            ],
            "text/html": [
              "<div>\n",
              "<style scoped>\n",
              "    .dataframe tbody tr th:only-of-type {\n",
              "        vertical-align: middle;\n",
              "    }\n",
              "\n",
              "    .dataframe tbody tr th {\n",
              "        vertical-align: top;\n",
              "    }\n",
              "\n",
              "    .dataframe thead th {\n",
              "        text-align: right;\n",
              "    }\n",
              "</style>\n",
              "<table border=\"1\" class=\"dataframe\">\n",
              "  <thead>\n",
              "    <tr style=\"text-align: right;\">\n",
              "      <th></th>\n",
              "      <th>count</th>\n",
              "    </tr>\n",
              "    <tr>\n",
              "      <th>category</th>\n",
              "      <th></th>\n",
              "    </tr>\n",
              "  </thead>\n",
              "  <tbody>\n",
              "    <tr>\n",
              "      <th>Online Financial Fraud</th>\n",
              "      <td>57434</td>\n",
              "    </tr>\n",
              "    <tr>\n",
              "      <th>Online and Social Media Related Crime</th>\n",
              "      <td>12140</td>\n",
              "    </tr>\n",
              "    <tr>\n",
              "      <th>Any Other Cyber Crime</th>\n",
              "      <td>10878</td>\n",
              "    </tr>\n",
              "    <tr>\n",
              "      <th>Cyber Attack/ Dependent Crimes</th>\n",
              "      <td>3608</td>\n",
              "    </tr>\n",
              "    <tr>\n",
              "      <th>RapeGang Rape RGRSexually Abusive Content</th>\n",
              "      <td>2822</td>\n",
              "    </tr>\n",
              "    <tr>\n",
              "      <th>Sexually Obscene material</th>\n",
              "      <td>1838</td>\n",
              "    </tr>\n",
              "    <tr>\n",
              "      <th>Hacking  Damage to computercomputer system etc</th>\n",
              "      <td>1710</td>\n",
              "    </tr>\n",
              "    <tr>\n",
              "      <th>Sexually Explicit Act</th>\n",
              "      <td>1552</td>\n",
              "    </tr>\n",
              "    <tr>\n",
              "      <th>Cryptocurrency Crime</th>\n",
              "      <td>480</td>\n",
              "    </tr>\n",
              "    <tr>\n",
              "      <th>Online Gambling  Betting</th>\n",
              "      <td>444</td>\n",
              "    </tr>\n",
              "    <tr>\n",
              "      <th>Child Pornography CPChild Sexual Abuse Material CSAM</th>\n",
              "      <td>379</td>\n",
              "    </tr>\n",
              "    <tr>\n",
              "      <th>Online Cyber Trafficking</th>\n",
              "      <td>183</td>\n",
              "    </tr>\n",
              "    <tr>\n",
              "      <th>Cyber Terrorism</th>\n",
              "      <td>161</td>\n",
              "    </tr>\n",
              "    <tr>\n",
              "      <th>Ransomware</th>\n",
              "      <td>56</td>\n",
              "    </tr>\n",
              "    <tr>\n",
              "      <th>Report Unlawful Content</th>\n",
              "      <td>1</td>\n",
              "    </tr>\n",
              "  </tbody>\n",
              "</table>\n",
              "</div><br><label><b>dtype:</b> int64</label>"
            ]
          },
          "metadata": {},
          "execution_count": 31
        }
      ]
    },
    {
      "cell_type": "markdown",
      "source": [
        "**Report Unlawful Content** labels has only 1 sample. We cannot split this category for train and val. Therefore removing this label entry."
      ],
      "metadata": {
        "id": "-kgqNI7NPZW7"
      }
    },
    {
      "cell_type": "code",
      "source": [
        "# Remove rows where Column1 has the value \"Report Unlawful Content\"\n",
        "train_df = train_df[train_df['category'] != 'Report Unlawful Content']"
      ],
      "metadata": {
        "id": "Y1IkWBLQP1Fz"
      },
      "execution_count": 32,
      "outputs": []
    },
    {
      "cell_type": "code",
      "source": [
        "train_df['category'].value_counts()"
      ],
      "metadata": {
        "colab": {
          "base_uri": "https://localhost:8080/",
          "height": 555
        },
        "id": "3AuvO0lZQGBS",
        "outputId": "b9cc6fc9-eca5-4718-c018-a0658a03eda1"
      },
      "execution_count": 33,
      "outputs": [
        {
          "output_type": "execute_result",
          "data": {
            "text/plain": [
              "category\n",
              "Online Financial Fraud                                  57434\n",
              "Online and Social Media Related Crime                   12140\n",
              "Any Other Cyber Crime                                   10878\n",
              "Cyber Attack/ Dependent Crimes                           3608\n",
              "RapeGang Rape RGRSexually Abusive Content                2822\n",
              "Sexually Obscene material                                1838\n",
              "Hacking  Damage to computercomputer system etc           1710\n",
              "Sexually Explicit Act                                    1552\n",
              "Cryptocurrency Crime                                      480\n",
              "Online Gambling  Betting                                  444\n",
              "Child Pornography CPChild Sexual Abuse Material CSAM      379\n",
              "Online Cyber Trafficking                                  183\n",
              "Cyber Terrorism                                           161\n",
              "Ransomware                                                 56\n",
              "Name: count, dtype: int64"
            ],
            "text/html": [
              "<div>\n",
              "<style scoped>\n",
              "    .dataframe tbody tr th:only-of-type {\n",
              "        vertical-align: middle;\n",
              "    }\n",
              "\n",
              "    .dataframe tbody tr th {\n",
              "        vertical-align: top;\n",
              "    }\n",
              "\n",
              "    .dataframe thead th {\n",
              "        text-align: right;\n",
              "    }\n",
              "</style>\n",
              "<table border=\"1\" class=\"dataframe\">\n",
              "  <thead>\n",
              "    <tr style=\"text-align: right;\">\n",
              "      <th></th>\n",
              "      <th>count</th>\n",
              "    </tr>\n",
              "    <tr>\n",
              "      <th>category</th>\n",
              "      <th></th>\n",
              "    </tr>\n",
              "  </thead>\n",
              "  <tbody>\n",
              "    <tr>\n",
              "      <th>Online Financial Fraud</th>\n",
              "      <td>57434</td>\n",
              "    </tr>\n",
              "    <tr>\n",
              "      <th>Online and Social Media Related Crime</th>\n",
              "      <td>12140</td>\n",
              "    </tr>\n",
              "    <tr>\n",
              "      <th>Any Other Cyber Crime</th>\n",
              "      <td>10878</td>\n",
              "    </tr>\n",
              "    <tr>\n",
              "      <th>Cyber Attack/ Dependent Crimes</th>\n",
              "      <td>3608</td>\n",
              "    </tr>\n",
              "    <tr>\n",
              "      <th>RapeGang Rape RGRSexually Abusive Content</th>\n",
              "      <td>2822</td>\n",
              "    </tr>\n",
              "    <tr>\n",
              "      <th>Sexually Obscene material</th>\n",
              "      <td>1838</td>\n",
              "    </tr>\n",
              "    <tr>\n",
              "      <th>Hacking  Damage to computercomputer system etc</th>\n",
              "      <td>1710</td>\n",
              "    </tr>\n",
              "    <tr>\n",
              "      <th>Sexually Explicit Act</th>\n",
              "      <td>1552</td>\n",
              "    </tr>\n",
              "    <tr>\n",
              "      <th>Cryptocurrency Crime</th>\n",
              "      <td>480</td>\n",
              "    </tr>\n",
              "    <tr>\n",
              "      <th>Online Gambling  Betting</th>\n",
              "      <td>444</td>\n",
              "    </tr>\n",
              "    <tr>\n",
              "      <th>Child Pornography CPChild Sexual Abuse Material CSAM</th>\n",
              "      <td>379</td>\n",
              "    </tr>\n",
              "    <tr>\n",
              "      <th>Online Cyber Trafficking</th>\n",
              "      <td>183</td>\n",
              "    </tr>\n",
              "    <tr>\n",
              "      <th>Cyber Terrorism</th>\n",
              "      <td>161</td>\n",
              "    </tr>\n",
              "    <tr>\n",
              "      <th>Ransomware</th>\n",
              "      <td>56</td>\n",
              "    </tr>\n",
              "  </tbody>\n",
              "</table>\n",
              "</div><br><label><b>dtype:</b> int64</label>"
            ]
          },
          "metadata": {},
          "execution_count": 33
        }
      ]
    },
    {
      "cell_type": "markdown",
      "source": [
        "## Data Distribution"
      ],
      "metadata": {
        "id": "iW_60-xQOthc"
      }
    },
    {
      "cell_type": "code",
      "source": [
        "train_df.shape"
      ],
      "metadata": {
        "colab": {
          "base_uri": "https://localhost:8080/"
        },
        "id": "B3LKjFqBQXDd",
        "outputId": "592f2b2d-26a1-4dff-d861-b552e1f57e3b"
      },
      "execution_count": 44,
      "outputs": [
        {
          "output_type": "execute_result",
          "data": {
            "text/plain": [
              "(85875, 3)"
            ]
          },
          "metadata": {},
          "execution_count": 44
        }
      ]
    },
    {
      "cell_type": "code",
      "source": [
        "train_df['category'].value_counts()"
      ],
      "metadata": {
        "colab": {
          "base_uri": "https://localhost:8080/",
          "height": 555
        },
        "id": "fNxHqf_oOe_k",
        "outputId": "36b80b33-b982-439e-a571-6ecf5284fb4c"
      },
      "execution_count": 43,
      "outputs": [
        {
          "output_type": "execute_result",
          "data": {
            "text/plain": [
              "category\n",
              "Online Financial Fraud                                  52496\n",
              "Online and Social Media Related Crime                   12076\n",
              "Any Other Cyber Crime                                   10811\n",
              "Cyber Attack/ Dependent Crimes                           3608\n",
              "Sexually Obscene material                                1764\n",
              "Hacking  Damage to computercomputer system etc           1709\n",
              "Sexually Explicit Act                                    1489\n",
              "Cryptocurrency Crime                                      473\n",
              "Online Gambling  Betting                                  444\n",
              "Child Pornography CPChild Sexual Abuse Material CSAM      357\n",
              "RapeGang Rape RGRSexually Abusive Content                 248\n",
              "Online Cyber Trafficking                                  183\n",
              "Cyber Terrorism                                           161\n",
              "Ransomware                                                 56\n",
              "Name: count, dtype: int64"
            ],
            "text/html": [
              "<div>\n",
              "<style scoped>\n",
              "    .dataframe tbody tr th:only-of-type {\n",
              "        vertical-align: middle;\n",
              "    }\n",
              "\n",
              "    .dataframe tbody tr th {\n",
              "        vertical-align: top;\n",
              "    }\n",
              "\n",
              "    .dataframe thead th {\n",
              "        text-align: right;\n",
              "    }\n",
              "</style>\n",
              "<table border=\"1\" class=\"dataframe\">\n",
              "  <thead>\n",
              "    <tr style=\"text-align: right;\">\n",
              "      <th></th>\n",
              "      <th>count</th>\n",
              "    </tr>\n",
              "    <tr>\n",
              "      <th>category</th>\n",
              "      <th></th>\n",
              "    </tr>\n",
              "  </thead>\n",
              "  <tbody>\n",
              "    <tr>\n",
              "      <th>Online Financial Fraud</th>\n",
              "      <td>52496</td>\n",
              "    </tr>\n",
              "    <tr>\n",
              "      <th>Online and Social Media Related Crime</th>\n",
              "      <td>12076</td>\n",
              "    </tr>\n",
              "    <tr>\n",
              "      <th>Any Other Cyber Crime</th>\n",
              "      <td>10811</td>\n",
              "    </tr>\n",
              "    <tr>\n",
              "      <th>Cyber Attack/ Dependent Crimes</th>\n",
              "      <td>3608</td>\n",
              "    </tr>\n",
              "    <tr>\n",
              "      <th>Sexually Obscene material</th>\n",
              "      <td>1764</td>\n",
              "    </tr>\n",
              "    <tr>\n",
              "      <th>Hacking  Damage to computercomputer system etc</th>\n",
              "      <td>1709</td>\n",
              "    </tr>\n",
              "    <tr>\n",
              "      <th>Sexually Explicit Act</th>\n",
              "      <td>1489</td>\n",
              "    </tr>\n",
              "    <tr>\n",
              "      <th>Cryptocurrency Crime</th>\n",
              "      <td>473</td>\n",
              "    </tr>\n",
              "    <tr>\n",
              "      <th>Online Gambling  Betting</th>\n",
              "      <td>444</td>\n",
              "    </tr>\n",
              "    <tr>\n",
              "      <th>Child Pornography CPChild Sexual Abuse Material CSAM</th>\n",
              "      <td>357</td>\n",
              "    </tr>\n",
              "    <tr>\n",
              "      <th>RapeGang Rape RGRSexually Abusive Content</th>\n",
              "      <td>248</td>\n",
              "    </tr>\n",
              "    <tr>\n",
              "      <th>Online Cyber Trafficking</th>\n",
              "      <td>183</td>\n",
              "    </tr>\n",
              "    <tr>\n",
              "      <th>Cyber Terrorism</th>\n",
              "      <td>161</td>\n",
              "    </tr>\n",
              "    <tr>\n",
              "      <th>Ransomware</th>\n",
              "      <td>56</td>\n",
              "    </tr>\n",
              "  </tbody>\n",
              "</table>\n",
              "</div><br><label><b>dtype:</b> int64</label>"
            ]
          },
          "metadata": {},
          "execution_count": 43
        }
      ]
    },
    {
      "cell_type": "markdown",
      "source": [
        "Dataset is highly imbalanced. We may opt an augmentation method to generate more sample for minority class data"
      ],
      "metadata": {
        "id": "yUmyaW7yQcWu"
      }
    },
    {
      "cell_type": "code",
      "source": [],
      "metadata": {
        "id": "FVA1ETLgOz0-"
      },
      "execution_count": null,
      "outputs": []
    }
  ]
}